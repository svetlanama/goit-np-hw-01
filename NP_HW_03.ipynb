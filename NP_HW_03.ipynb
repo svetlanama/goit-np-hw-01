{
  "nbformat": 4,
  "nbformat_minor": 0,
  "metadata": {
    "colab": {
      "provenance": [],
      "authorship_tag": "ABX9TyOWHRPV9YsAjjUlBbrUPHJ0",
      "include_colab_link": true
    },
    "kernelspec": {
      "name": "python3",
      "display_name": "Python 3"
    },
    "language_info": {
      "name": "python"
    }
  },
  "cells": [
    {
      "cell_type": "markdown",
      "metadata": {
        "id": "view-in-github",
        "colab_type": "text"
      },
      "source": [
        "<a href=\"https://colab.research.google.com/github/svetlanama/goit-np-hw-01/blob/main/NP_HW_03.ipynb\" target=\"_parent\"><img src=\"https://colab.research.google.com/assets/colab-badge.svg\" alt=\"Open In Colab\"/></a>"
      ]
    },
    {
      "cell_type": "code",
      "execution_count": 40,
      "metadata": {
        "colab": {
          "base_uri": "https://localhost:8080/"
        },
        "id": "0v9uzomS2xiU",
        "outputId": "552bebf0-b41f-4751-e4dc-d4ac5aa25f45"
      },
      "outputs": [
        {
          "output_type": "stream",
          "name": "stdout",
          "text": [
            "Mounted at /content/drive\n"
          ]
        }
      ],
      "source": [
        "\n",
        "# Імпорт потрібних бібліотек\n",
        "import pandas as pd\n",
        "import io, re, math, gzip, pathlib, statistics\n",
        "import pickle # Python object serialization library. Not secure\n",
        "from google.colab import drive\n",
        "from sklearn.decomposition import PCA\n",
        "\n",
        "drive.mount('/content/drive', force_remount=True)\n",
        ""
      ]
    },
    {
      "cell_type": "code",
      "source": [
        "word_embeddings = pickle.load( open('/content/drive/MyDrive/neo_data/word_embeddings_subset.p', \"rb\"))\n",
        "\n",
        "len(word_embeddings) # there should be 243 words that will be used in this assignment"
      ],
      "metadata": {
        "colab": {
          "base_uri": "https://localhost:8080/"
        },
        "id": "CD_L7NxB-Z0c",
        "outputId": "37725ea7-cc29-4746-85f7-28218d9d497c"
      },
      "execution_count": 37,
      "outputs": [
        {
          "output_type": "execute_result",
          "data": {
            "text/plain": [
              "243"
            ]
          },
          "metadata": {},
          "execution_count": 37
        }
      ]
    },
    {
      "cell_type": "code",
      "source": [
        "# Перевіримо, що це словник word -> np.array\n",
        "print(type(word_embeddings), len(word_embeddings))  # очікуємо ~243 слів\n",
        "\n",
        "# 2) Готуємо матрицю ембеддингів\n",
        "words = list(word_embeddings.keys())\n",
        "X = np.vstack([np.asarray(word_embeddings[w]) for w in words])  # shape: (N, D)\n",
        "N, D = X.shape\n",
        "print(f\"N={N} words, D={D} dims\")\n",
        "\n",
        "# 3) Отримуємо 3D-вектори:\n",
        "#    - якщо вже 3D, беремо як є\n",
        "#    - інакше зменшуємо до 3 через PCA (стандартний і швидкий для візуалізації/таблиць)\n",
        "if D == 3:\n",
        "    X3 = X\n",
        "else:\n",
        "    pca = PCA(n_components=3, random_state=42)\n",
        "    X3 = pca.fit_transform(X)\n",
        "\n",
        "# 4) Створюємо DataFrame\n",
        "df_3d = pd.DataFrame({\n",
        "    'word': words,\n",
        "    'x': X3[:, 0],\n",
        "    'y': X3[:, 1],\n",
        "    'z': X3[:, 2],\n",
        "})\n",
        "\n",
        "# (необов’язково) Відсортуємо для стабільності\n",
        "df_3d = df_3d.sort_values('word').reset_index(drop=True)\n",
        "\n",
        "# 5) Перевірки/вивід\n",
        "print(df_3d.shape)\n",
        "df_3d.head()"
      ],
      "metadata": {
        "colab": {
          "base_uri": "https://localhost:8080/",
          "height": 258
        },
        "id": "nqQafYvi-Y5r",
        "outputId": "da08d49d-9536-4dc3-f86a-618f132a89af"
      },
      "execution_count": 41,
      "outputs": [
        {
          "output_type": "stream",
          "name": "stdout",
          "text": [
            "<class 'dict'> 243\n",
            "N=243 words, D=300 dims\n",
            "(243, 4)\n"
          ]
        },
        {
          "output_type": "execute_result",
          "data": {
            "text/plain": [
              "          word         x         y         z\n",
              "0        Abuja -1.561085 -1.144419  0.515586\n",
              "1        Accra -1.602932 -0.845107  0.384880\n",
              "2  Afghanistan  0.751223 -0.240383 -0.055846\n",
              "3      Albania  1.102844  0.450449  0.785021\n",
              "4      Algeria  0.869988 -0.771020  0.824030"
            ],
            "text/html": [
              "\n",
              "  <div id=\"df-e4520b78-2c7f-44e9-953c-c0a21a676c62\" class=\"colab-df-container\">\n",
              "    <div>\n",
              "<style scoped>\n",
              "    .dataframe tbody tr th:only-of-type {\n",
              "        vertical-align: middle;\n",
              "    }\n",
              "\n",
              "    .dataframe tbody tr th {\n",
              "        vertical-align: top;\n",
              "    }\n",
              "\n",
              "    .dataframe thead th {\n",
              "        text-align: right;\n",
              "    }\n",
              "</style>\n",
              "<table border=\"1\" class=\"dataframe\">\n",
              "  <thead>\n",
              "    <tr style=\"text-align: right;\">\n",
              "      <th></th>\n",
              "      <th>word</th>\n",
              "      <th>x</th>\n",
              "      <th>y</th>\n",
              "      <th>z</th>\n",
              "    </tr>\n",
              "  </thead>\n",
              "  <tbody>\n",
              "    <tr>\n",
              "      <th>0</th>\n",
              "      <td>Abuja</td>\n",
              "      <td>-1.561085</td>\n",
              "      <td>-1.144419</td>\n",
              "      <td>0.515586</td>\n",
              "    </tr>\n",
              "    <tr>\n",
              "      <th>1</th>\n",
              "      <td>Accra</td>\n",
              "      <td>-1.602932</td>\n",
              "      <td>-0.845107</td>\n",
              "      <td>0.384880</td>\n",
              "    </tr>\n",
              "    <tr>\n",
              "      <th>2</th>\n",
              "      <td>Afghanistan</td>\n",
              "      <td>0.751223</td>\n",
              "      <td>-0.240383</td>\n",
              "      <td>-0.055846</td>\n",
              "    </tr>\n",
              "    <tr>\n",
              "      <th>3</th>\n",
              "      <td>Albania</td>\n",
              "      <td>1.102844</td>\n",
              "      <td>0.450449</td>\n",
              "      <td>0.785021</td>\n",
              "    </tr>\n",
              "    <tr>\n",
              "      <th>4</th>\n",
              "      <td>Algeria</td>\n",
              "      <td>0.869988</td>\n",
              "      <td>-0.771020</td>\n",
              "      <td>0.824030</td>\n",
              "    </tr>\n",
              "  </tbody>\n",
              "</table>\n",
              "</div>\n",
              "    <div class=\"colab-df-buttons\">\n",
              "\n",
              "  <div class=\"colab-df-container\">\n",
              "    <button class=\"colab-df-convert\" onclick=\"convertToInteractive('df-e4520b78-2c7f-44e9-953c-c0a21a676c62')\"\n",
              "            title=\"Convert this dataframe to an interactive table.\"\n",
              "            style=\"display:none;\">\n",
              "\n",
              "  <svg xmlns=\"http://www.w3.org/2000/svg\" height=\"24px\" viewBox=\"0 -960 960 960\">\n",
              "    <path d=\"M120-120v-720h720v720H120Zm60-500h600v-160H180v160Zm220 220h160v-160H400v160Zm0 220h160v-160H400v160ZM180-400h160v-160H180v160Zm440 0h160v-160H620v160ZM180-180h160v-160H180v160Zm440 0h160v-160H620v160Z\"/>\n",
              "  </svg>\n",
              "    </button>\n",
              "\n",
              "  <style>\n",
              "    .colab-df-container {\n",
              "      display:flex;\n",
              "      gap: 12px;\n",
              "    }\n",
              "\n",
              "    .colab-df-convert {\n",
              "      background-color: #E8F0FE;\n",
              "      border: none;\n",
              "      border-radius: 50%;\n",
              "      cursor: pointer;\n",
              "      display: none;\n",
              "      fill: #1967D2;\n",
              "      height: 32px;\n",
              "      padding: 0 0 0 0;\n",
              "      width: 32px;\n",
              "    }\n",
              "\n",
              "    .colab-df-convert:hover {\n",
              "      background-color: #E2EBFA;\n",
              "      box-shadow: 0px 1px 2px rgba(60, 64, 67, 0.3), 0px 1px 3px 1px rgba(60, 64, 67, 0.15);\n",
              "      fill: #174EA6;\n",
              "    }\n",
              "\n",
              "    .colab-df-buttons div {\n",
              "      margin-bottom: 4px;\n",
              "    }\n",
              "\n",
              "    [theme=dark] .colab-df-convert {\n",
              "      background-color: #3B4455;\n",
              "      fill: #D2E3FC;\n",
              "    }\n",
              "\n",
              "    [theme=dark] .colab-df-convert:hover {\n",
              "      background-color: #434B5C;\n",
              "      box-shadow: 0px 1px 3px 1px rgba(0, 0, 0, 0.15);\n",
              "      filter: drop-shadow(0px 1px 2px rgba(0, 0, 0, 0.3));\n",
              "      fill: #FFFFFF;\n",
              "    }\n",
              "  </style>\n",
              "\n",
              "    <script>\n",
              "      const buttonEl =\n",
              "        document.querySelector('#df-e4520b78-2c7f-44e9-953c-c0a21a676c62 button.colab-df-convert');\n",
              "      buttonEl.style.display =\n",
              "        google.colab.kernel.accessAllowed ? 'block' : 'none';\n",
              "\n",
              "      async function convertToInteractive(key) {\n",
              "        const element = document.querySelector('#df-e4520b78-2c7f-44e9-953c-c0a21a676c62');\n",
              "        const dataTable =\n",
              "          await google.colab.kernel.invokeFunction('convertToInteractive',\n",
              "                                                    [key], {});\n",
              "        if (!dataTable) return;\n",
              "\n",
              "        const docLinkHtml = 'Like what you see? Visit the ' +\n",
              "          '<a target=\"_blank\" href=https://colab.research.google.com/notebooks/data_table.ipynb>data table notebook</a>'\n",
              "          + ' to learn more about interactive tables.';\n",
              "        element.innerHTML = '';\n",
              "        dataTable['output_type'] = 'display_data';\n",
              "        await google.colab.output.renderOutput(dataTable, element);\n",
              "        const docLink = document.createElement('div');\n",
              "        docLink.innerHTML = docLinkHtml;\n",
              "        element.appendChild(docLink);\n",
              "      }\n",
              "    </script>\n",
              "  </div>\n",
              "\n",
              "\n",
              "    <div id=\"df-9cd6e152-6a09-4a46-9999-1ce09969be79\">\n",
              "      <button class=\"colab-df-quickchart\" onclick=\"quickchart('df-9cd6e152-6a09-4a46-9999-1ce09969be79')\"\n",
              "                title=\"Suggest charts\"\n",
              "                style=\"display:none;\">\n",
              "\n",
              "<svg xmlns=\"http://www.w3.org/2000/svg\" height=\"24px\"viewBox=\"0 0 24 24\"\n",
              "     width=\"24px\">\n",
              "    <g>\n",
              "        <path d=\"M19 3H5c-1.1 0-2 .9-2 2v14c0 1.1.9 2 2 2h14c1.1 0 2-.9 2-2V5c0-1.1-.9-2-2-2zM9 17H7v-7h2v7zm4 0h-2V7h2v10zm4 0h-2v-4h2v4z\"/>\n",
              "    </g>\n",
              "</svg>\n",
              "      </button>\n",
              "\n",
              "<style>\n",
              "  .colab-df-quickchart {\n",
              "      --bg-color: #E8F0FE;\n",
              "      --fill-color: #1967D2;\n",
              "      --hover-bg-color: #E2EBFA;\n",
              "      --hover-fill-color: #174EA6;\n",
              "      --disabled-fill-color: #AAA;\n",
              "      --disabled-bg-color: #DDD;\n",
              "  }\n",
              "\n",
              "  [theme=dark] .colab-df-quickchart {\n",
              "      --bg-color: #3B4455;\n",
              "      --fill-color: #D2E3FC;\n",
              "      --hover-bg-color: #434B5C;\n",
              "      --hover-fill-color: #FFFFFF;\n",
              "      --disabled-bg-color: #3B4455;\n",
              "      --disabled-fill-color: #666;\n",
              "  }\n",
              "\n",
              "  .colab-df-quickchart {\n",
              "    background-color: var(--bg-color);\n",
              "    border: none;\n",
              "    border-radius: 50%;\n",
              "    cursor: pointer;\n",
              "    display: none;\n",
              "    fill: var(--fill-color);\n",
              "    height: 32px;\n",
              "    padding: 0;\n",
              "    width: 32px;\n",
              "  }\n",
              "\n",
              "  .colab-df-quickchart:hover {\n",
              "    background-color: var(--hover-bg-color);\n",
              "    box-shadow: 0 1px 2px rgba(60, 64, 67, 0.3), 0 1px 3px 1px rgba(60, 64, 67, 0.15);\n",
              "    fill: var(--button-hover-fill-color);\n",
              "  }\n",
              "\n",
              "  .colab-df-quickchart-complete:disabled,\n",
              "  .colab-df-quickchart-complete:disabled:hover {\n",
              "    background-color: var(--disabled-bg-color);\n",
              "    fill: var(--disabled-fill-color);\n",
              "    box-shadow: none;\n",
              "  }\n",
              "\n",
              "  .colab-df-spinner {\n",
              "    border: 2px solid var(--fill-color);\n",
              "    border-color: transparent;\n",
              "    border-bottom-color: var(--fill-color);\n",
              "    animation:\n",
              "      spin 1s steps(1) infinite;\n",
              "  }\n",
              "\n",
              "  @keyframes spin {\n",
              "    0% {\n",
              "      border-color: transparent;\n",
              "      border-bottom-color: var(--fill-color);\n",
              "      border-left-color: var(--fill-color);\n",
              "    }\n",
              "    20% {\n",
              "      border-color: transparent;\n",
              "      border-left-color: var(--fill-color);\n",
              "      border-top-color: var(--fill-color);\n",
              "    }\n",
              "    30% {\n",
              "      border-color: transparent;\n",
              "      border-left-color: var(--fill-color);\n",
              "      border-top-color: var(--fill-color);\n",
              "      border-right-color: var(--fill-color);\n",
              "    }\n",
              "    40% {\n",
              "      border-color: transparent;\n",
              "      border-right-color: var(--fill-color);\n",
              "      border-top-color: var(--fill-color);\n",
              "    }\n",
              "    60% {\n",
              "      border-color: transparent;\n",
              "      border-right-color: var(--fill-color);\n",
              "    }\n",
              "    80% {\n",
              "      border-color: transparent;\n",
              "      border-right-color: var(--fill-color);\n",
              "      border-bottom-color: var(--fill-color);\n",
              "    }\n",
              "    90% {\n",
              "      border-color: transparent;\n",
              "      border-bottom-color: var(--fill-color);\n",
              "    }\n",
              "  }\n",
              "</style>\n",
              "\n",
              "      <script>\n",
              "        async function quickchart(key) {\n",
              "          const quickchartButtonEl =\n",
              "            document.querySelector('#' + key + ' button');\n",
              "          quickchartButtonEl.disabled = true;  // To prevent multiple clicks.\n",
              "          quickchartButtonEl.classList.add('colab-df-spinner');\n",
              "          try {\n",
              "            const charts = await google.colab.kernel.invokeFunction(\n",
              "                'suggestCharts', [key], {});\n",
              "          } catch (error) {\n",
              "            console.error('Error during call to suggestCharts:', error);\n",
              "          }\n",
              "          quickchartButtonEl.classList.remove('colab-df-spinner');\n",
              "          quickchartButtonEl.classList.add('colab-df-quickchart-complete');\n",
              "        }\n",
              "        (() => {\n",
              "          let quickchartButtonEl =\n",
              "            document.querySelector('#df-9cd6e152-6a09-4a46-9999-1ce09969be79 button');\n",
              "          quickchartButtonEl.style.display =\n",
              "            google.colab.kernel.accessAllowed ? 'block' : 'none';\n",
              "        })();\n",
              "      </script>\n",
              "    </div>\n",
              "    </div>\n",
              "  </div>\n"
            ],
            "application/vnd.google.colaboratory.intrinsic+json": {
              "type": "dataframe",
              "variable_name": "df_3d",
              "summary": "{\n  \"name\": \"df_3d\",\n  \"rows\": 243,\n  \"fields\": [\n    {\n      \"column\": \"word\",\n      \"properties\": {\n        \"dtype\": \"string\",\n        \"num_unique_values\": 243,\n        \"samples\": [\n          \"Bangkok\",\n          \"Amman\",\n          \"Nicaragua\"\n        ],\n        \"semantic_type\": \"\",\n        \"description\": \"\"\n      }\n    },\n    {\n      \"column\": \"x\",\n      \"properties\": {\n        \"dtype\": \"float32\",\n        \"num_unique_values\": 243,\n        \"samples\": [\n          -1.0183756351470947,\n          -0.8472442626953125,\n          0.7922229170799255\n        ],\n        \"semantic_type\": \"\",\n        \"description\": \"\"\n      }\n    },\n    {\n      \"column\": \"y\",\n      \"properties\": {\n        \"dtype\": \"float32\",\n        \"num_unique_values\": 243,\n        \"samples\": [\n          0.13852308690547943,\n          0.374367892742157,\n          -0.5813252329826355\n        ],\n        \"semantic_type\": \"\",\n        \"description\": \"\"\n      }\n    },\n    {\n      \"column\": \"z\",\n      \"properties\": {\n        \"dtype\": \"float32\",\n        \"num_unique_values\": 243,\n        \"samples\": [\n          -0.9754010438919067,\n          -0.5341562628746033,\n          -0.2570911645889282\n        ],\n        \"semantic_type\": \"\",\n        \"description\": \"\"\n      }\n    }\n  ]\n}"
            }
          },
          "metadata": {},
          "execution_count": 41
        }
      ]
    },
    {
      "cell_type": "code",
      "source": [
        "import numpy as np\n",
        "\n",
        "# 0) Підготуємо матрицю та довідники\n",
        "WORDS = df_3d['word'].tolist()\n",
        "X3 = df_3d[['x', 'y', 'z']].to_numpy()            # shape: (N, 3)\n",
        "\n",
        "def _normalize_rows(X: np.ndarray) -> np.ndarray:\n",
        "    norms = np.linalg.norm(X, axis=1, keepdims=True)\n",
        "    norms = np.where(norms == 0, 1.0, norms)      # захист від ділення на 0\n",
        "    return X / norms\n",
        "\n",
        "X3_norm = _normalize_rows(X3)                     # для cosine\n",
        "WORD2IDX = {w: i for i, w in enumerate(WORDS)}\n",
        "\n",
        "# 1) Пошук за довільним 3D-вектором\n",
        "def nearest_by_vector(vec3: np.ndarray, k: int = 1, metric: str = 'cosine', exclude: list[str] | None = None):\n",
        "    \"\"\"\n",
        "    vec3: np.array форми (3,)\n",
        "    k: скільки найближчих повернути\n",
        "    metric: 'cosine' або 'euclidean'\n",
        "    exclude: список слів, які потрібно виключити з результату (наприклад, саме слово)\n",
        "    \"\"\"\n",
        "    vec3 = np.asarray(vec3).reshape(-1)\n",
        "    assert vec3.shape == (3,), \"vec3 має бути форми (3,)\"\n",
        "\n",
        "    N = X3.shape[0]\n",
        "    mask = np.ones(N, dtype=bool)\n",
        "    if exclude:\n",
        "        for w in exclude:\n",
        "            idx = WORD2IDX.get(w)\n",
        "            if idx is not None:\n",
        "                mask[idx] = False\n",
        "\n",
        "    if metric == 'cosine':\n",
        "        v = vec3 / (np.linalg.norm(vec3) or 1.0)\n",
        "        sims = (X3_norm @ v)                      # cos similarity\n",
        "        sims_masked = np.where(mask, sims, -np.inf)\n",
        "        # топ-k за спаданням схожості\n",
        "        k_eff = min(k, np.isfinite(sims_masked).sum())\n",
        "        topk_idx = np.argpartition(-sims_masked, kth=k_eff-1)[:k_eff]\n",
        "        topk_idx = topk_idx[np.argsort(-sims_masked[topk_idx])]\n",
        "        return [(WORDS[i], float(sims[i])) for i in topk_idx]\n",
        "\n",
        "    elif metric == 'euclidean':\n",
        "        dists = np.linalg.norm(X3 - vec3, axis=1)\n",
        "        dists_masked = np.where(mask, dists, np.inf)\n",
        "        k_eff = min(k, np.isfinite(dists_masked).sum())\n",
        "        topk_idx = np.argpartition(dists_masked, kth=k_eff-1)[:k_eff]\n",
        "        topk_idx = topk_idx[np.argsort(dists_masked[topk_idx])]\n",
        "        return [(WORDS[i], float(dists[i])) for i in topk_idx]\n",
        "\n",
        "    else:\n",
        "        raise ValueError(\"metric має бути 'cosine' або 'euclidean'\")\n",
        "\n",
        "# 2) Пошук за словом (зручний шорткат)\n",
        "def vector_of(word: str) -> np.ndarray:\n",
        "    \"\"\"Повертає 3D-вектор слова з df_3d.\"\"\"\n",
        "    idx = WORD2IDX.get(word)\n",
        "    if idx is None:\n",
        "        raise KeyError(f\"Слова '{word}' немає в словнику.\")\n",
        "    return X3[idx]\n",
        "\n",
        "def nearest_to_word(word: str, k: int = 5, metric: str = 'cosine'):\n",
        "    \"\"\"Найближчі слова до заданого слова (без самого слова у видачі).\"\"\"\n",
        "    v = vector_of(word)\n",
        "    return nearest_by_vector(v, k=k, metric=metric, exclude=[word])\n"
      ],
      "metadata": {
        "id": "Dm4isjy8_dTJ"
      },
      "execution_count": 42,
      "outputs": []
    },
    {
      "cell_type": "code",
      "source": [
        "# Візьмемо будь-яке слово з набору\n",
        "test_word = WORDS[0]\n",
        "# Без exclude -> перший результат має збігатись зі словом\n",
        "res_self = nearest_by_vector(vector_of(test_word), k=1, metric='cosine', exclude=None)\n",
        "print(\"Self check:\", test_word, \"->\", res_self[0])\n",
        "\n",
        "assert res_self[0][0] == test_word, \"Top-1 має бути те саме слово (self-check провалився)\"\n"
      ],
      "metadata": {
        "colab": {
          "base_uri": "https://localhost:8080/"
        },
        "id": "0opcCjRG_nYv",
        "outputId": "77ee7c27-9639-478b-8094-6b7d4aff6c6c"
      },
      "execution_count": 43,
      "outputs": [
        {
          "output_type": "stream",
          "name": "stdout",
          "text": [
            "Self check: Abuja -> ('Abuja', 1.0)\n"
          ]
        }
      ]
    },
    {
      "cell_type": "code",
      "source": [
        "for w in WORDS[:3]:  # кілька перших слів як приклади\n",
        "    print(f\"\\nНайближчі до '{w}' (cosine):\")\n",
        "    print(nearest_to_word(w, k=5, metric='cosine'))\n",
        "\n",
        "    print(f\"Найближчі до '{w}' (euclidean):\")\n",
        "    print(nearest_to_word(w, k=5, metric='euclidean'))\n"
      ],
      "metadata": {
        "colab": {
          "base_uri": "https://localhost:8080/"
        },
        "id": "Kj7ujT--_qfl",
        "outputId": "b529c12e-1a54-483b-84b3-e2ad8b09ffc8"
      },
      "execution_count": 44,
      "outputs": [
        {
          "output_type": "stream",
          "name": "stdout",
          "text": [
            "\n",
            "Найближчі до 'Abuja' (cosine):\n",
            "[('Gaborone', 0.9999873638153076), ('Lusaka', 0.9968248605728149), ('Kampala', 0.9960655570030212), ('Dakar', 0.9943804144859314), ('Maputo', 0.9906014204025269)]\n",
            "Найближчі до 'Abuja' (euclidean):\n",
            "[('Gaborone', 0.05737831071019173), ('Kampala', 0.2232474386692047), ('Lusaka', 0.2520746886730194), ('Banjul', 0.2825263440608978), ('Libreville', 0.29563239216804504)]\n",
            "\n",
            "Найближчі до 'Accra' (cosine):\n",
            "[('Maputo', 0.9995267391204834), ('Lilongwe', 0.9990275502204895), ('Harare', 0.9987924695014954), ('Libreville', 0.9986041188240051), ('Kampala', 0.9978670477867126)]\n",
            "Найближчі до 'Accra' (euclidean):\n",
            "[('Maputo', 0.057955216616392136), ('Libreville', 0.15821518003940582), ('Nouakchott', 0.17242367565631866), ('Nairobi', 0.24942204356193542), ('Banjul', 0.25577083230018616)]\n",
            "\n",
            "Найближчі до 'Afghanistan' (cosine):\n",
            "[('Venezuela', 0.9907379746437073), ('Portugal', 0.9899588823318481), ('Uruguay', 0.987541913986206), ('Ecuador', 0.987482488155365), ('Qatar', 0.9829792380332947)]\n",
            "Найближчі до 'Afghanistan' (euclidean):\n",
            "[('Qatar', 0.22891871631145477), ('Cuba', 0.24372592568397522), ('Tuvalu', 0.28259870409965515), ('Venezuela', 0.28737249970436096), ('Laos', 0.2878951132297516)]\n"
          ]
        }
      ]
    },
    {
      "cell_type": "code",
      "source": [
        "def try_analogy(a: str, b: str, c: str, k: int = 5, metric: str = 'cosine'):\n",
        "    \"\"\"\n",
        "    Знаходимо x:  b - a + c  ~ x\n",
        "    Повертаємо k найближчих слів.\n",
        "    \"\"\"\n",
        "    v = vector_of(b) - vector_of(a) + vector_of(c)\n",
        "    return nearest_by_vector(v, k=k, metric=metric, exclude=[a, b, c])\n",
        "\n",
        "# Приклад (якщо такі слова є в підмножині):\n",
        "# print(try_analogy(\"man\", \"king\", \"woman\", k=5))\n"
      ],
      "metadata": {
        "id": "3DKeTMmL_uJU"
      },
      "execution_count": 45,
      "outputs": []
    },
    {
      "cell_type": "markdown",
      "source": [
        "=== 3===="
      ],
      "metadata": {
        "id": "I1aQJdIOBnSG"
      }
    },
    {
      "cell_type": "code",
      "source": [
        "import numpy as np\n",
        "\n",
        "def angle_deg(u, v):\n",
        "    \"\"\"Кут між векторами у градусах (0° = паралельні, 90° = ортогональні).\"\"\"\n",
        "    u = np.asarray(u); v = np.asarray(v)\n",
        "    nu = np.linalg.norm(u); nv = np.linalg.norm(v)\n",
        "    if nu == 0 or nv == 0:\n",
        "      return np.nan\n",
        "    cosang = np.clip(u.dot(v) / (nu * nv), -1.0, 1.0)\n",
        "    return float(np.degrees(np.arccos(cosang)))\n",
        "\n",
        "def cross_of_words(a: str, b: str, normalize: bool = True):\n",
        "    \"\"\"\n",
        "    Векторний добуток двох слів у 3D.\n",
        "    Повертає (v_cross, info), де info містить кут між a і b та 'силу' ортогональності (sinθ).\n",
        "    \"\"\"\n",
        "    va, vb = vector_of(a), vector_of(b)\n",
        "    v = np.cross(va, vb)                   # ортогональний до площини (va, vb)\n",
        "    norm_v = np.linalg.norm(v)\n",
        "    # sin(theta) = ||va x vb|| / (||va|| * ||vb||)\n",
        "    sin_theta = norm_v / (np.linalg.norm(va) * np.linalg.norm(vb) + 1e-12)\n",
        "    if normalize and norm_v > 0:\n",
        "        v = v / norm_v\n",
        "\n",
        "    info = {\n",
        "        \"angle_deg\": angle_deg(va, vb),\n",
        "        \"sin_theta\": float(sin_theta),     # 0 ~ майже паралельні, 1 ~ майже ортогональні\n",
        "        \"norm_cross\": float(norm_v)\n",
        "    }\n",
        "    return v, info\n",
        "\n",
        "def nearest_to_cross(a: str, b: str, k: int = 5, metric: str = 'cosine', exclude_self=True):\n",
        "    \"\"\"\n",
        "    Знаходить найближчі слова до векторного добутку (a × b).\n",
        "    exclude_self=True — виключає самі a і b з видачі.\n",
        "    \"\"\"\n",
        "    v, info = cross_of_words(a, b, normalize=True)\n",
        "    exclude = [a, b] if exclude_self else None\n",
        "    neigh = nearest_by_vector(v, k=k, metric=metric, exclude=exclude)\n",
        "    return info, neigh\n"
      ],
      "metadata": {
        "id": "L3100kCWBGYB"
      },
      "execution_count": 46,
      "outputs": []
    },
    {
      "cell_type": "code",
      "source": [
        "pairs = [(WORDS[i], WORDS[i+1]) for i in range(0, min(6, len(WORDS)-1), 2)]\n",
        "\n",
        "for a, b in pairs:\n",
        "    info, neigh = nearest_to_cross(a, b, k=5, metric='cosine', exclude_self=True)\n",
        "    print(f\"\\n=== {a!r} × {b!r} ===\")\n",
        "    print(f\"Кут(a,b) ≈ {info['angle_deg']:.1f}°, sinθ ≈ {info['sin_theta']:.3f}, ||a×b|| ≈ {info['norm_cross']:.3f}\")\n",
        "    print(\"Топ-5 найближчих до (a×b):\")\n",
        "    for w, score in neigh:\n",
        "        print(f\"  {w:20s}  sim={score:.4f}\")\n"
      ],
      "metadata": {
        "colab": {
          "base_uri": "https://localhost:8080/"
        },
        "id": "KY7WrNGSBKT7",
        "outputId": "9d4be3b9-309e-401c-bef5-6b671cf7ff1d"
      },
      "execution_count": 47,
      "outputs": [
        {
          "output_type": "stream",
          "name": "stdout",
          "text": [
            "\n",
            "=== 'Abuja' × 'Accra' ===\n",
            "Кут(a,b) ≈ 8.7°, sinθ ≈ 0.152, ||a×b|| ≈ 0.562\n",
            "Топ-5 найближчих до (a×b):\n",
            "  Roseau                sim=0.9985\n",
            "  Kingston              sim=0.9945\n",
            "  Funafuti              sim=0.9872\n",
            "  Nassau                sim=0.9759\n",
            "  Georgetown            sim=0.9697\n",
            "\n",
            "=== 'Afghanistan' × 'Albania' ===\n",
            "Кут(a,b) ≈ 53.2°, sinθ ≈ 0.800, ||a×b|| ≈ 0.903\n",
            "Топ-5 найближчих до (a×b):\n",
            "  Burundi               sim=0.9817\n",
            "  Niger                 sim=0.9764\n",
            "  Rwanda                sim=0.9610\n",
            "  Somalia               sim=0.9529\n",
            "  Malawi                sim=0.9452\n",
            "\n",
            "=== 'Algeria' × 'Algiers' ===\n",
            "Кут(a,b) ≈ 116.7°, sinθ ≈ 0.893, ||a×b|| ≈ 1.442\n",
            "Топ-5 найближчих до (a×b):\n",
            "  Samoa                 sim=0.9645\n",
            "  Belize                sim=0.9413\n",
            "  petroleum             sim=0.9345\n",
            "  Roseau                sim=0.9302\n",
            "  Kingston              sim=0.9177\n"
          ]
        }
      ]
    },
    {
      "cell_type": "markdown",
      "source": [
        "==== 4 ===="
      ],
      "metadata": {
        "id": "TfBHSbLqBpEo"
      }
    },
    {
      "cell_type": "code",
      "source": [
        "import numpy as np\n",
        "\n",
        "def orthogonal_word(w1: str, w2: str, k: int = 5, metric: str = 'cosine'):\n",
        "    \"\"\"\n",
        "    Знаходить слово(-а), чий 3D-вектор найближчий до векторного добутку v1 × v2,\n",
        "    тобто приблизно ортогональний і до w1, і до w2 (у 3D-просторі).\n",
        "    Повертає:\n",
        "      {\n",
        "        'w1': ..., 'w2': ...,\n",
        "        'best': [(word, score), ...],     # топ-k для v = v1×v2\n",
        "        'best_neg': [(word, score), ...], # топ-k для -v (бо напрямок невизначений)\n",
        "        'norm': float\n",
        "      }\n",
        "    \"\"\"\n",
        "    v1, v2 = vector_of(w1), vector_of(w2)\n",
        "    v = np.cross(v1, v2)               # вектор перпендикулярний до площини (v1, v2)\n",
        "    n = np.linalg.norm(v)\n",
        "    if n < 1e-12:\n",
        "        return {\n",
        "            'w1': w1, 'w2': w2, 'norm': float(n),\n",
        "            'best': [], 'best_neg': [],\n",
        "            'note': 'Вектори майже колінеарні -> добуток ~ 0, ортогональність не визначена'\n",
        "        }\n",
        "    best = nearest_by_vector(v, k=k, metric=metric, exclude=[w1, w2])\n",
        "    best_neg = nearest_by_vector(-v, k=k, metric=metric, exclude=[w1, w2])\n",
        "    return {'w1': w1, 'w2': w2, 'best': best, 'best_neg': best_neg, 'norm': float(n)}\n",
        "\n",
        "# Приклади (візьмемо кілька перших слів з вашого словника)\n",
        "examples_pairs = [(WORDS[i], WORDS[i+1]) for i in range(0, min(6, len(WORDS)-1), 2)]\n",
        "for a,b in examples_pairs:\n",
        "    res = orthogonal_word(a, b, k=5, metric='cosine')\n",
        "    print(f\"\\n[{a} ⨯ {b}]  |‖v1×v2‖={res['norm']:.4f}\")\n",
        "    print(\" top(v):     \", res['best'])\n",
        "    print(\" top(-v):    \", res['best_neg'])\n"
      ],
      "metadata": {
        "colab": {
          "base_uri": "https://localhost:8080/"
        },
        "id": "YSJRTY9QBq6u",
        "outputId": "bc330ef9-ce47-47e6-f8b5-31555ed1497a"
      },
      "execution_count": 48,
      "outputs": [
        {
          "output_type": "stream",
          "name": "stdout",
          "text": [
            "\n",
            "[Abuja ⨯ Accra]  |‖v1×v2‖=0.5624\n",
            " top(v):      [('Roseau', 0.9985203146934509), ('Kingston', 0.9944548010826111), ('Funafuti', 0.9871655702590942), ('Nassau', 0.975907027721405), ('Georgetown', 0.9697108864784241)]\n",
            " top(-v):     [('Kyrgyzstan', 0.9730082750320435), ('Turkmenistan', 0.9081628322601318), ('Tajikistan', 0.8994070887565613), ('Azerbaijan', 0.8761230111122131), ('Armenia', 0.8729199171066284)]\n",
            "\n",
            "[Afghanistan ⨯ Albania]  |‖v1×v2‖=0.9029\n",
            " top(v):      [('Burundi', 0.981663703918457), ('Niger', 0.9763672351837158), ('Rwanda', 0.9610463976860046), ('Somalia', 0.9529284238815308), ('Malawi', 0.9452148675918579)]\n",
            " top(-v):     [('Athens', 0.9849274158477783), ('Lisbon', 0.972941517829895), ('Berlin', 0.9707467555999756), ('Dublin', 0.9188722372055054), ('Rome', 0.9106416702270508)]\n",
            "\n",
            "[Algeria ⨯ Algiers]  |‖v1×v2‖=1.4425\n",
            " top(v):      [('Samoa', 0.9644500017166138), ('Belize', 0.9413187503814697), ('petroleum', 0.9345304369926453), ('Roseau', 0.9301725029945374), ('Kingston', 0.9177317023277283)]\n",
            " top(-v):     [('Chisinau', 0.9363185167312622), ('Baku', 0.91840660572052), ('Yerevan', 0.9156243205070496), ('Minsk', 0.9124629497528076), ('Podgorica', 0.8966410160064697)]\n"
          ]
        }
      ]
    },
    {
      "cell_type": "code",
      "source": [
        "def angle_between_words(w1: str, w2: str, degrees: bool = True):\n",
        "    \"\"\"\n",
        "    Рахує кут між нормалізованими 3D-векторами слів w1 і w2.\n",
        "    Повертає (angle, cosine_similarity).\n",
        "    \"\"\"\n",
        "    v1 = vector_of(w1); v2 = vector_of(w2)\n",
        "    v1n = v1 / (np.linalg.norm(v1) or 1.0)\n",
        "    v2n = v2 / (np.linalg.norm(v2) or 1.0)\n",
        "    cos_sim = float(np.clip(np.dot(v1n, v2n), -1.0, 1.0))\n",
        "    ang = np.arccos(cos_sim)\n",
        "    if degrees:\n",
        "        ang = float(np.degrees(ang))\n",
        "    return ang, cos_sim\n",
        "\n",
        "# Швидкі тести на різних парах (використаємо кілька перших слів)\n",
        "test_pairs = []\n",
        "L = min(8, len(WORDS))\n",
        "for i in range(L):\n",
        "    for j in range(i+1, L):\n",
        "        test_pairs.append((WORDS[i], WORDS[j]))\n",
        "\n",
        "for (a,b) in test_pairs[:6]:  # покажемо перші кілька\n",
        "    ang, c = angle_between_words(a,b, degrees=True)\n",
        "    print(f\"{a:>15} ↔ {b:<15}  angle={ang:6.2f}°   cos={c:+.3f}\")\n"
      ],
      "metadata": {
        "colab": {
          "base_uri": "https://localhost:8080/"
        },
        "id": "wZHtxTL5BuKV",
        "outputId": "f4ec91dd-6cc1-4efc-f59d-29fb8abce778"
      },
      "execution_count": 49,
      "outputs": [
        {
          "output_type": "stream",
          "name": "stdout",
          "text": [
            "          Abuja ↔ Accra            angle=  8.72°   cos=+0.988\n",
            "          Abuja ↔ Afghanistan      angle=125.80°   cos=-0.585\n",
            "          Abuja ↔ Albania          angle=129.88°   cos=-0.641\n",
            "          Abuja ↔ Algeria          angle= 91.02°   cos=-0.018\n",
            "          Abuja ↔ Algiers          angle= 25.69°   cos=+0.901\n",
            "          Abuja ↔ Amman            angle= 73.21°   cos=+0.289\n"
          ]
        }
      ]
    }
  ]
}